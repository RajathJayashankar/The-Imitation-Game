{
 "cells": [
  {
   "cell_type": "code",
   "execution_count": 2,
   "id": "fdf21d6a",
   "metadata": {},
   "outputs": [],
   "source": [
    "import cv2\n",
    "import tensorflow as tf\n",
    "import sklearn\n",
    "import matplotlib.pyplot as plt\n",
    "%matplotlib inline\n",
    "import numpy as np\n",
    "import os"
   ]
  },
  {
   "cell_type": "code",
   "execution_count": 34,
   "id": "52deba4b",
   "metadata": {},
   "outputs": [],
   "source": [
    "with open('dataset_blindfolded.npy', 'rb') as f:\n",
    "    inp_mat= np.load(f)\n",
    "    out_mat = np.load(f)"
   ]
  },
  {
   "cell_type": "code",
   "execution_count": 35,
   "id": "48160b70",
   "metadata": {},
   "outputs": [],
   "source": [
    "inp_mat, out_mat = sklearn.utils.shuffle(inp_mat, out_mat)"
   ]
  },
  {
   "cell_type": "code",
   "execution_count": 36,
   "id": "a0b0b19f",
   "metadata": {},
   "outputs": [
    {
     "data": {
      "text/plain": [
       "(2832752, 7, 7)"
      ]
     },
     "execution_count": 36,
     "metadata": {},
     "output_type": "execute_result"
    }
   ],
   "source": [
    "inp_mat.shape"
   ]
  },
  {
   "cell_type": "code",
   "execution_count": 37,
   "id": "0ce76bdb",
   "metadata": {},
   "outputs": [
    {
     "data": {
      "text/plain": [
       "(2832752,)"
      ]
     },
     "execution_count": 37,
     "metadata": {},
     "output_type": "execute_result"
    }
   ],
   "source": [
    "out_mat.shape"
   ]
  },
  {
   "cell_type": "code",
   "execution_count": 38,
   "id": "78fa5cc0",
   "metadata": {},
   "outputs": [],
   "source": [
    "action=['left','right','up','down', 'stop']"
   ]
  },
  {
   "cell_type": "code",
   "execution_count": 39,
   "id": "eaf93bf1",
   "metadata": {},
   "outputs": [],
   "source": [
    "out_mat=tf.keras.utils.to_categorical( out_mat, 5 )"
   ]
  },
  {
   "cell_type": "code",
   "execution_count": 40,
   "id": "59794558",
   "metadata": {},
   "outputs": [],
   "source": [
    "x_train,y_train,x_test,y_test=inp_mat[:1832752],out_mat[:1832752],inp_mat[1832752:],out_mat[1832752:]"
   ]
  },
  {
   "cell_type": "code",
   "execution_count": 11,
   "id": "6866854b",
   "metadata": {},
   "outputs": [
    {
     "data": {
      "text/plain": [
       "((1832752, 7, 7), (1832752, 5), (1000000, 7, 7), (1000000, 5))"
      ]
     },
     "execution_count": 11,
     "metadata": {},
     "output_type": "execute_result"
    }
   ],
   "source": [
    "x_train.shape, y_train.shape, x_test.shape, y_test.shape"
   ]
  },
  {
   "cell_type": "markdown",
   "id": "67b18c5c",
   "metadata": {},
   "source": [
    "# CNN starts here"
   ]
  },
  {
   "cell_type": "code",
   "execution_count": 12,
   "id": "d2960a6d",
   "metadata": {},
   "outputs": [],
   "source": [
    "cnn = tf.keras.models.Sequential()\n",
    "cnn.add(tf.keras.layers.Conv2D(filters=64, kernel_size=3, activation='relu', input_shape=[7, 7,1]))\n",
    "cnn.add(tf.keras.layers.Conv2D(filters=64, kernel_size=3, activation='relu'))\n",
    "cnn.add(tf.keras.layers.MaxPool2D(pool_size=2, strides=2))\n",
    "#cnn.add(tf.keras.layers.Conv2D(filters=64, kernel_size=3, activation='relu'))\n",
    "#cnn.add(tf.keras.layers.Dropout(0.25))\n",
    "cnn.add(tf.keras.layers.Flatten())\n",
    "cnn.add(tf.keras.layers.Dense(units=128, activation='relu'))\n",
    "cnn.add(tf.keras.layers.Dense(units=5, activation='softmax'))\n",
    "cnn.compile(optimizer = 'adam', loss ='categorical_crossentropy' , metrics = ['accuracy'])"
   ]
  },
  {
   "cell_type": "code",
   "execution_count": 13,
   "id": "cda07f84",
   "metadata": {},
   "outputs": [
    {
     "name": "stdout",
     "output_type": "stream",
     "text": [
      "Model: \"sequential\"\n",
      "_________________________________________________________________\n",
      " Layer (type)                Output Shape              Param #   \n",
      "=================================================================\n",
      " conv2d (Conv2D)             (None, 5, 5, 64)          640       \n",
      "                                                                 \n",
      " conv2d_1 (Conv2D)           (None, 3, 3, 64)          36928     \n",
      "                                                                 \n",
      " max_pooling2d (MaxPooling2D  (None, 1, 1, 64)         0         \n",
      " )                                                               \n",
      "                                                                 \n",
      " flatten (Flatten)           (None, 64)                0         \n",
      "                                                                 \n",
      " dense (Dense)               (None, 128)               8320      \n",
      "                                                                 \n",
      " dense_1 (Dense)             (None, 5)                 645       \n",
      "                                                                 \n",
      "=================================================================\n",
      "Total params: 46,533\n",
      "Trainable params: 46,533\n",
      "Non-trainable params: 0\n",
      "_________________________________________________________________\n"
     ]
    }
   ],
   "source": [
    "cnn.summary()"
   ]
  },
  {
   "cell_type": "code",
   "execution_count": 14,
   "id": "059d9346",
   "metadata": {},
   "outputs": [
    {
     "name": "stdout",
     "output_type": "stream",
     "text": [
      "Epoch 1/10\n",
      "57274/57274 [==============================] - 78s 1ms/step - loss: 0.4084 - accuracy: 0.8281 - val_loss: 0.3739 - val_accuracy: 0.8424\n",
      "Epoch 2/10\n",
      "57274/57274 [==============================] - 75s 1ms/step - loss: 0.3673 - accuracy: 0.8457 - val_loss: 0.3617 - val_accuracy: 0.8487\n",
      "Epoch 3/10\n",
      "57274/57274 [==============================] - 75s 1ms/step - loss: 0.3587 - accuracy: 0.8497 - val_loss: 0.3585 - val_accuracy: 0.8499\n",
      "Epoch 4/10\n",
      "57274/57274 [==============================] - 75s 1ms/step - loss: 0.3542 - accuracy: 0.8515 - val_loss: 0.3525 - val_accuracy: 0.8524\n",
      "Epoch 5/10\n",
      "57274/57274 [==============================] - 76s 1ms/step - loss: 0.3511 - accuracy: 0.8530 - val_loss: 0.3557 - val_accuracy: 0.8504\n",
      "Epoch 6/10\n",
      "57274/57274 [==============================] - 76s 1ms/step - loss: 0.3494 - accuracy: 0.8534 - val_loss: 0.3529 - val_accuracy: 0.8528\n",
      "Epoch 7/10\n",
      "57274/57274 [==============================] - 75s 1ms/step - loss: 0.3477 - accuracy: 0.8543 - val_loss: 0.3497 - val_accuracy: 0.8530\n",
      "Epoch 8/10\n",
      "57274/57274 [==============================] - 75s 1ms/step - loss: 0.3469 - accuracy: 0.8548 - val_loss: 0.3532 - val_accuracy: 0.8520\n",
      "Epoch 9/10\n",
      "57274/57274 [==============================] - 76s 1ms/step - loss: 0.3460 - accuracy: 0.8551 - val_loss: 0.3477 - val_accuracy: 0.8541\n",
      "Epoch 10/10\n",
      "57274/57274 [==============================] - 75s 1ms/step - loss: 0.3454 - accuracy: 0.8554 - val_loss: 0.3500 - val_accuracy: 0.8536\n"
     ]
    },
    {
     "data": {
      "text/plain": [
       "<keras.callbacks.History at 0x25c80461c40>"
      ]
     },
     "execution_count": 14,
     "metadata": {},
     "output_type": "execute_result"
    }
   ],
   "source": [
    "cnn.fit( x_train, y_train, epochs = 10 ,validation_data=(x_test, y_test))"
   ]
  },
  {
   "cell_type": "code",
   "execution_count": 134,
   "id": "35ee1bfb",
   "metadata": {},
   "outputs": [
    {
     "name": "stdout",
     "output_type": "stream",
     "text": [
      "Saved model to disk\n"
     ]
    }
   ],
   "source": [
    "import json\n",
    "model_json = cnn.to_json()\n",
    "with open(\"cnn_model_normal_astar.json\", \"w\") as json_file:\n",
    "    json_file.write(model_json)\n",
    "# serialize weights to HDF5\n",
    "cnn.save_weights(\"cnn_model_normal_astar.h5\")\n",
    "print(\"Saved model to disk\")"
   ]
  },
  {
   "cell_type": "markdown",
   "id": "463d7442",
   "metadata": {},
   "source": [
    "# ANN Starts here"
   ]
  },
  {
   "cell_type": "code",
   "execution_count": 41,
   "id": "259ea4eb",
   "metadata": {},
   "outputs": [],
   "source": [
    "# change shape based on window grid size\n",
    "digit_input = tf.keras.layers.Input( shape = (7,7) )\n",
    "flatten_image = tf.keras.layers.Flatten()( digit_input )\n",
    "dense_1 = tf.keras.layers.Dense( units = 128, activation = tf.nn.relu )( flatten_image )\n",
    "dense_2 = tf.keras.layers.Dense( units = 64, activation = tf.nn.relu )( dense_1 )\n",
    "dense_3 = tf.keras.layers.Dense( units = 64, activation = tf.nn.relu )( dense_2 )\n",
    "dense_4=tf.keras.layers.Dense( units = 32,activation = tf.nn.relu )( dense_3)\n",
    "logits = tf.keras.layers.Dense( units = 5, activation = None )( dense_4 )\n",
    "probabilities = tf.keras.layers.Softmax()( logits )\n",
    "ann = tf.keras.Model( inputs = digit_input, outputs = probabilities )\n",
    "ann.compile( optimizer = 'adam', loss = 'categorical_crossentropy', metrics = ['accuracy'] )"
   ]
  },
  {
   "cell_type": "code",
   "execution_count": 48,
   "id": "d23ac174",
   "metadata": {},
   "outputs": [
    {
     "name": "stdout",
     "output_type": "stream",
     "text": [
      "Epoch 1/10\n",
      "57274/57274 [==============================] - 40s 699us/step - loss: 0.3927 - accuracy: 0.8311 - val_loss: 0.3608 - val_accuracy: 0.8463\n",
      "Epoch 2/10\n",
      "57274/57274 [==============================] - 40s 694us/step - loss: 0.3481 - accuracy: 0.8516 - val_loss: 0.3409 - val_accuracy: 0.8544\n",
      "Epoch 3/10\n",
      "57274/57274 [==============================] - 39s 680us/step - loss: 0.3379 - accuracy: 0.8566 - val_loss: 0.3420 - val_accuracy: 0.8544\n",
      "Epoch 4/10\n",
      "57274/57274 [==============================] - 39s 683us/step - loss: 0.3323 - accuracy: 0.8595 - val_loss: 0.3352 - val_accuracy: 0.8580\n",
      "Epoch 5/10\n",
      "57274/57274 [==============================] - 38s 670us/step - loss: 0.3292 - accuracy: 0.8610 - val_loss: 0.3307 - val_accuracy: 0.8603\n",
      "Epoch 6/10\n",
      "57274/57274 [==============================] - 39s 686us/step - loss: 0.3270 - accuracy: 0.8620 - val_loss: 0.3293 - val_accuracy: 0.8612\n",
      "Epoch 7/10\n",
      "57274/57274 [==============================] - 39s 682us/step - loss: 0.3255 - accuracy: 0.8629 - val_loss: 0.3272 - val_accuracy: 0.8622\n",
      "Epoch 8/10\n",
      "57274/57274 [==============================] - 39s 673us/step - loss: 0.3250 - accuracy: 0.8633 - val_loss: 0.3266 - val_accuracy: 0.8628\n",
      "Epoch 9/10\n",
      "57274/57274 [==============================] - 39s 679us/step - loss: 0.3242 - accuracy: 0.8637 - val_loss: 0.3278 - val_accuracy: 0.8620\n",
      "Epoch 10/10\n",
      "57274/57274 [==============================] - 39s 685us/step - loss: 0.3237 - accuracy: 0.8644 - val_loss: 0.3307 - val_accuracy: 0.8618\n"
     ]
    }
   ],
   "source": [
    "history = ann.fit( x_train, y_train, epochs = 10 ,validation_data=(x_test, y_test))"
   ]
  },
  {
   "cell_type": "code",
   "execution_count": 49,
   "id": "2eac98b6",
   "metadata": {},
   "outputs": [
    {
     "name": "stdout",
     "output_type": "stream",
     "text": [
      "Model: \"model\"\n",
      "_________________________________________________________________\n",
      " Layer (type)                Output Shape              Param #   \n",
      "=================================================================\n",
      " input_1 (InputLayer)        [(None, 7, 7)]            0         \n",
      "                                                                 \n",
      " flatten_1 (Flatten)         (None, 49)                0         \n",
      "                                                                 \n",
      " dense_2 (Dense)             (None, 128)               6400      \n",
      "                                                                 \n",
      " dense_3 (Dense)             (None, 64)                8256      \n",
      "                                                                 \n",
      " dense_4 (Dense)             (None, 64)                4160      \n",
      "                                                                 \n",
      " dense_5 (Dense)             (None, 32)                2080      \n",
      "                                                                 \n",
      " dense_6 (Dense)             (None, 5)                 165       \n",
      "                                                                 \n",
      " softmax (Softmax)           (None, 5)                 0         \n",
      "                                                                 \n",
      "=================================================================\n",
      "Total params: 21,061\n",
      "Trainable params: 21,061\n",
      "Non-trainable params: 0\n",
      "_________________________________________________________________\n"
     ]
    }
   ],
   "source": [
    "ann.summary()"
   ]
  },
  {
   "cell_type": "code",
   "execution_count": 33,
   "id": "f7aac5ee",
   "metadata": {},
   "outputs": [
    {
     "name": "stdout",
     "output_type": "stream",
     "text": [
      "Saved model to disk\n"
     ]
    }
   ],
   "source": [
    "# SAVE MODEL\n",
    "import json\n",
    "model_json = ann.to_json()\n",
    "with open(\"ann_model_blindfolded.json\", \"w\") as json_file:\n",
    "    json_file.write(model_json)\n",
    "# serialize weights to HDF5\n",
    "ann.save_weights(\"ann_model_blindfolded.h5\")\n",
    "print(\"Saved model to disk\")\n",
    "\n",
    "\n"
   ]
  },
  {
   "cell_type": "code",
   "execution_count": 27,
   "id": "9a79c094",
   "metadata": {},
   "outputs": [
    {
     "name": "stdout",
     "output_type": "stream",
     "text": [
      "Loaded model from disk\n"
     ]
    }
   ],
   "source": [
    "# load previously saved model\n",
    "from keras.models import model_from_json\n",
    "\n",
    "json_file = open('ann_model_blindfolded.json', 'r')\n",
    "loaded_model_json = json_file.read()\n",
    "json_file.close()\n",
    "ann = model_from_json(loaded_model_json)\n",
    "# load weights into new model\n",
    "ann.load_weights(\"ann_model_blindfolded.h5\")\n",
    "print(\"Loaded model from disk\")"
   ]
  },
  {
   "cell_type": "code",
   "execution_count": 28,
   "id": "2e3a2ed2",
   "metadata": {},
   "outputs": [],
   "source": [
    "import math\n",
    "import time\n",
    "from heapq import heappush, heappop\n",
    "\n",
    "import numpy as np\n",
    "\n",
    "\n",
    "class PriorityQueue:\n",
    "\n",
    "    def __init__(self, iterable=[]):\n",
    "        self.heap = []\n",
    "        for value in iterable:\n",
    "            heappush(self.heap, (0, value))\n",
    "\n",
    "    def add(self, value, priority=0):\n",
    "        heappush(self.heap, (priority, value))\n",
    "\n",
    "    def pop(self):\n",
    "        priority, value = heappop(self.heap)\n",
    "        return value\n",
    "\n",
    "    def __len__(self):\n",
    "        return len(self.heap)\n",
    "\n",
    "\n",
    "def get_heuristic(h_fun, dim):\n",
    "    def calc_h(cell):\n",
    "        (i, j) = cell\n",
    "        if h_fun == 'MANHATTAN':\n",
    "            return abs(dim - i) + abs(dim - j)\n",
    "        elif h_fun == 'EUCLIDEAN':\n",
    "            return math.sqrt(abs(dim - i) ** 2 + abs(dim - j) ** 2)\n",
    "        elif h_fun == 'CHEBYSHEV':\n",
    "            return max(abs(dim - i), abs(dim - j))\n",
    "        else:\n",
    "            return max(abs(dim - i), abs(dim - j))\n",
    "    return calc_h\n",
    "\n",
    "\n",
    "def a_star_search(start, neighbors, heuristic, grid):\n",
    "    dim = len(grid[0])\n",
    "    visited = set()\n",
    "    parent = dict()\n",
    "    distance = {start: 0}\n",
    "    fringe = PriorityQueue()\n",
    "    fringe.add(start)\n",
    "\n",
    "    while fringe:\n",
    "        cell = fringe.pop()\n",
    "        if cell in visited:\n",
    "            continue\n",
    "        if cell == (dim - (1 + padding), dim - (1 + padding)):\n",
    "            return reconstruct_path(parent, start, cell)\n",
    "        visited.add(cell)\n",
    "        for child in neighbors(cell):\n",
    "            fringe.add(child, priority=distance[cell] + 1 + heuristic(child))\n",
    "            if child not in distance or distance[cell] + 1 < distance[child]:\n",
    "                distance[child] = distance[cell] + 1\n",
    "                parent[child] = cell\n",
    "    return None\n",
    "\n",
    "\n",
    "def reconstruct_path(parent, start, end):\n",
    "    global x_train, y_train\n",
    "    path = [end]\n",
    "    while end != start:\n",
    "        end = parent[end]\n",
    "        path.append(end)\n",
    "    return list(reversed(path))\n",
    "\n",
    "\n",
    "def get_neighbors(grid, dim):\n",
    "    def get_adjacent_cells(cell):\n",
    "        x, y = cell\n",
    "        return ((x + i, y + j)\n",
    "                for (i, j) in [(1, 0), (0, 1), (0, -1), (-1, 0)]\n",
    "                # (i, j) Represents movement from current cell - N,W,S,E direction eg: (1,0) means -> (x+1, y)\n",
    "                # neighbor should be within grid boundary\n",
    "                # neighbor should be an unblocked cell\n",
    "                if 0 <= x + i < dim\n",
    "                if 0 <= y + j < dim\n",
    "                if grid[x + i][y + j] != 1)\n",
    "\n",
    "    return get_adjacent_cells\n",
    "\n",
    "\n",
    "def get_shortest_path(h_fun, grid):\n",
    "    # Default start pos: (0,0)\n",
    "    dim = len(grid[0])\n",
    "    shortest_path = a_star_search(start, get_neighbors(grid, dim), get_heuristic(h_fun, dim), grid)\n",
    "    if shortest_path is None:\n",
    "        return -1\n",
    "    else:\n",
    "        return shortest_path"
   ]
  },
  {
   "cell_type": "markdown",
   "id": "8ec4b556",
   "metadata": {},
   "source": [
    "# Grid Representation"
   ]
  },
  {
   "cell_type": "code",
   "execution_count": 21,
   "id": "9e97fdba",
   "metadata": {},
   "outputs": [],
   "source": [
    "def draw_grid(img, grid_shape, color=(0, 255, 0), thickness=1):\n",
    "    h, w, _ = img.shape\n",
    "    rows, cols = grid_shape\n",
    "    dy, dx = h / rows, w / cols\n",
    "\n",
    "    # draw vertical lines\n",
    "    for x in np.linspace(start=dx, stop=w-dx, num=cols-1):\n",
    "        x = int(round(x))\n",
    "        cv2.line(img, (x, 0), (x, h), color=color, thickness=thickness)\n",
    "\n",
    "    # draw horizontal lines\n",
    "    for y in np.linspace(start=dy, stop=h-dy, num=rows-1):\n",
    "        y = int(round(y))\n",
    "        cv2.line(img, (0, y), (w, y), color=color, thickness=thickness)\n",
    "\n",
    "    return img"
   ]
  },
  {
   "cell_type": "code",
   "execution_count": 20,
   "id": "3f2bf6a9",
   "metadata": {},
   "outputs": [],
   "source": [
    "def draw(data,img2,visited):\n",
    "    win_size=672\n",
    "    cell_pixel=12 #  win_size/cell_pixel = no. of row+padding\n",
    "    \n",
    "    for i in range(0,win_size,cell_pixel):\n",
    "        for j in range(0,win_size,cell_pixel):\n",
    "            if(data[int(i/cell_pixel)][int(j/cell_pixel)]==0):\n",
    "                img2=cv2.rectangle(img2,(i+1,j+1),(i+(cell_pixel-1),j+(cell_pixel-1)),(255,255,255),-1)\n",
    "                \n",
    "            if(data[int(i/cell_pixel)][int(j/cell_pixel)]==1):\n",
    "                img2=cv2.rectangle(img2,(i+1,j+1),(i+(cell_pixel-1),j+(cell_pixel-1)),(0,0,0),-1)\n",
    "                \n",
    "            if(data[int(i/cell_pixel)][int(j/cell_pixel)]==2):\n",
    "                img2=cv2.rectangle(img2,(i+1,j+1),(i+(cell_pixel-1),j+(cell_pixel-1)),(0,0,255),-1)\n",
    "                \n",
    "            if(data[int(i/cell_pixel)][int(j/cell_pixel)]==3):\n",
    "                img2=cv2.rectangle(img2,(i+1,j+1),(i+(cell_pixel-1),j+(cell_pixel-1)),(0,255,0),-1)\n",
    "            \n",
    "    \n",
    "  #  for (i,j) in visited:\n",
    "    #    img2=cv2.rectangle(img2,((i*20)+1,(j*20)+1),(i*20+(cell_pixel-1),j*20+(cell_pixel-1)),(255,0,0),-1)\n",
    "\n",
    "\n",
    "    return img2\n",
    "        \n",
    "        "
   ]
  },
  {
   "cell_type": "markdown",
   "id": "957d8c88",
   "metadata": {},
   "source": [
    "# "
   ]
  },
  {
   "cell_type": "code",
   "execution_count": null,
   "id": "2719d81d",
   "metadata": {},
   "outputs": [],
   "source": [
    "def pad_with(vector, pad_width, iaxis, kwargs):\n",
    "    pad_value = kwargs.get('padder', 1)\n",
    "    vector[:pad_width[0]] = pad_value\n",
    "    vector[-pad_width[1]:] = pad_value\n",
    "\n",
    "ct =1\n",
    "folder_counter=1\n",
    "success_grid_counter=1\n",
    "solved=True\n",
    "sucess=0\n",
    "fail=0\n",
    "while ct>0:\n",
    "    num_moves=0\n",
    "    visited=[]\n",
    "    broke = 0\n",
    "    p=0.3\n",
    "    grid_dim = 50\n",
    "    padding = 3\n",
    "    x = np.pad(np.array(np.random.choice([0, 1], (grid_dim * grid_dim), p=[1 - p, p]).reshape(grid_dim, grid_dim)), padding, pad_with)\n",
    "    dim = len(x[0])\n",
    "    start = (padding, padding)\n",
    "    x[start[0],start[1]] = 0\n",
    "  #  print(dim - 1 - padding, dim - 1 - padding)\n",
    "    x[dim - 1 - padding, dim - 1 - padding] = 0\n",
    "    astrtime=time.time()\n",
    "    a_star_path = get_shortest_path('MANHATTAN', x)\n",
    "    if a_star_path!=-1:\n",
    "        print(\"\\n#########################################\\n\")\n",
    "        print(\"Length: \",len(a_star_path))\n",
    "        aendtime=time.time()\n",
    "        print(\"A star solved in : \",aendtime-astrtime)\n",
    "       \n",
    "    else:\n",
    "        broke = 1\n",
    "       # print('Unsolvable')\n",
    "        continue\n",
    "   # print(x)\n",
    "    nn_path = 0\n",
    "\n",
    "    if a_star_path!=-1:\n",
    "        img=np.ones((720,720,3))\n",
    "        cv2.imwrite(\"grid\"+str(success_grid_counter)+\".jpg\",draw(x,img,visited))\n",
    "        \n",
    "        inp = np.zeros((dim, dim))\n",
    "        inp[start[0],start[1]] = 2\n",
    "        inp[dim - 1 - padding, dim - 1 - padding] = 3\n",
    "        seen = dict()\n",
    "        for a in range(dim):\n",
    "            for pad in range(0, padding):\n",
    "                inp[a, pad] = 1\n",
    "                inp[pad, a] = 1\n",
    "                inp[dim - 1 - pad, a] = 1\n",
    "                inp[a, dim - 1 - pad] = 1\n",
    "        for coord in seen:\n",
    "            inp[coord] = x[coord]\n",
    "        (x1, y1) = start\n",
    "        for (i, j) in [(1, 0), (0, 1), (0, -1), (-1, 0)]:\n",
    "            if x1 + i == 0 or x1 + i == dim - 1 or y1 + i == 0 or y1 + i == dim - 1:\n",
    "                pass\n",
    "            else:\n",
    "                inp[x1 + i][y1 + j] = x[x1 + i][y1 + j]\n",
    "                seen[(x1 + i, y1 + j)] = x[x1 + i][y1 + j]\n",
    "\n",
    "\n",
    "\n",
    "\n",
    "        c=0\n",
    "        img=np.ones((720,720,3))\n",
    "        img=draw_grid(img,(36,36),(0, 0, 0),1)\n",
    "        path_buffer=[]\n",
    "        import matplotlib.pyplot as plt\n",
    "        if a_star_path!=-1:\n",
    "            data = inp.copy()\n",
    "            grid = data[x1 - padding:x1 + 1 + padding, y1 - padding:y1 + 1 + padding]\n",
    "\n",
    "            a=cnn.predict(grid.reshape((1,7,7)))\n",
    "            move=action[np.argmax(a)]\n",
    "           # print(grid)\n",
    "           # print(move)\n",
    "            pos = start\n",
    "            nn_path+=1\n",
    "            strt_time=time.time()\n",
    "            while move!='stop':\n",
    "                visited.append(pos)\n",
    "               # print(pos)\n",
    "                num_moves+=1\n",
    "                \n",
    "                data[pos] = 0\n",
    "                if move == 'left':\n",
    "                    pos = (pos[0], pos[1]-1)\n",
    "                elif move == 'right':\n",
    "                    pos = (pos[0], pos[1]+1)\n",
    "                elif move == 'up':\n",
    "                    pos = (pos[0]-1, pos[1])\n",
    "                elif move == 'down':\n",
    "                    pos = (pos[0]+1, pos[1])\n",
    "                else:\n",
    "                    pos = pos\n",
    "\n",
    "                (x1,y1)= pos\n",
    "                for coord in seen:\n",
    "                    data[coord] = x[coord]\n",
    "                for (i, j) in [(1, 0), (0, 1), (0, -1), (-1, 0)]:\n",
    "                    if (x1 + i == dim - padding and y1 + i == dim - padding) :\n",
    "                        pass\n",
    "                    else:\n",
    "                        data[x1 + i][y1 + j] = x[x1 + i][y1 + j]\n",
    "                        seen[(x1 + i, y1 + j)] = x[x1 + i][y1 + j]\n",
    "                data[pos] = 2\n",
    "                grid = data[x1 - padding :x1 + 1 + padding, y1 - padding:y1 + 1 + padding]\n",
    "               # print(grid)\n",
    "              #  print(data)\n",
    "                img=draw(data,img,visited)\n",
    "                path_buffer.append(pos)\n",
    "                if len(path_buffer)>8:\n",
    "                    path_buffer.pop(0)\n",
    "               # print(\"Pth buffer: \",path_buffer)\n",
    "\n",
    "\n",
    "\n",
    "                if(len(set(path_buffer))<4 and len(path_buffer)==8):\n",
    "                    fail+=1\n",
    "                    print(\"Breaking out since getting stuck in Infifinte loop\\n\")\n",
    "                    success_grid_counter+=1\n",
    "                #    os.remove(\"grid\"+str(success_grid_counter)+\".jpg\")\n",
    "                    for im in os.listdir(\"folder_\"+str(folder_counter)):\n",
    "                        os.remove(\"folder_\"+str(folder_counter)+\"/\"+im)\n",
    "                    broke = 1\n",
    "                    break\n",
    "\n",
    "    #             if(x[pos]==1):\n",
    "    #                 print(\"ENtered Blocked cell\")\n",
    "    #                 continue\n",
    "\n",
    "\n",
    "\n",
    "\n",
    "             #   plt.figure()\n",
    "              #  plt.imshow(np.array(img,np.int32))\n",
    "                if(not \"folder_\"+str(folder_counter) in os.listdir()):os.mkdir(\"folder_\"+str(folder_counter))\n",
    "                cv2.imwrite(\"folder_\"+str(folder_counter)+\"/\"+\"frmae\"+str(c)+'.jpg',img)\n",
    "                c+=1\n",
    "              #  print(len(grid[0]))\n",
    "\n",
    "                a=cnn.predict(grid.reshape((1,7,7)))\n",
    "                move=action[np.argmax(a)]\n",
    "\n",
    "               # print(move,\"\\n\")\n",
    "                nn_path+=1\n",
    "    end_time=time.time()           \n",
    "    if broke == 1:\n",
    "        continue\n",
    "    ct-=1\n",
    "    print(\"Grid is Solved in: \",num_moves,\" time: \",end_time-strt_time)\n",
    "    sucess+=1\n",
    "    success_grid_counter+=1\n",
    "    folder_counter+=1\n",
    "    \n",
    "#    print(nn_path)\n",
    "#print(ct)"
   ]
  },
  {
   "cell_type": "code",
   "execution_count": null,
   "id": "5811ecda",
   "metadata": {},
   "outputs": [],
   "source": []
  }
 ],
 "metadata": {
  "kernelspec": {
   "display_name": "Python 3 (ipykernel)",
   "language": "python",
   "name": "python3"
  },
  "language_info": {
   "codemirror_mode": {
    "name": "ipython",
    "version": 3
   },
   "file_extension": ".py",
   "mimetype": "text/x-python",
   "name": "python",
   "nbconvert_exporter": "python",
   "pygments_lexer": "ipython3",
   "version": "3.9.7"
  }
 },
 "nbformat": 4,
 "nbformat_minor": 5
}
